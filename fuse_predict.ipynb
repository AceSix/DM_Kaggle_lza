{
 "cells": [
  {
   "cell_type": "code",
   "execution_count": 1,
   "metadata": {},
   "outputs": [],
   "source": [
    "import torch\n",
    "import torch.nn as nn\n",
    "import torch.utils.data as data\n",
    "import torchvision\n",
    "import torchvision.transforms as transforms\n",
    "import pandas as pd\n",
    "import numpy as np\n",
    "import torch.optim as optim\n",
    "import torch.nn.functional as F\n",
    "from tqdm import tqdm\n",
    "import time\n",
    "import matplotlib.pyplot as plt\n",
    "import math\n",
    "import self_model as models\n",
    "import get_data\n",
    "import densenet"
   ]
  },
  {
   "cell_type": "code",
   "execution_count": 2,
   "metadata": {},
   "outputs": [],
   "source": [
    "Resnet50_path = \"./model-ResNet50-[all]-2019.04.11.pt\"\n",
    "AllConvNet_path = \"./model-AllConvNet-[1,6,7,8,9]-2019.04.11.pt\"\n",
    "SimpleNet_path = \"./model-SImpleNet-[1,2,6,8]-2019.04.11.pt\"\n",
    "DenseNet_path = \"./model-DenseNet-[all]-2019.04.12.pt\"\n",
    "\n",
    "# model_ACN = models.AllConvNet(3000)\n",
    "# model_SN = models.SimpleNet()\n",
    "model_RN50 = models.Resnet50()\n",
    "model_DN = densenet.DenseNet()\n",
    "\n",
    "# model_ACN = torch.load(AllConvNet_path)\n",
    "# model_SN = torch.load(SimpleNet_path)\n",
    "model_RN50 = torch.load(Resnet50_path)\n",
    "model_DN = torch.load(DenseNet_path)"
   ]
  },
  {
   "cell_type": "code",
   "execution_count": 3,
   "metadata": {},
   "outputs": [],
   "source": [
    "data_path = \"C://Users//shjdl//Desktop//DM_project//data//\"\n",
    "test_path = data_path+\"test.csv\"\n",
    "\n",
    "test_raw_data = pd.read_csv(test_path, iterator=True)\n",
    "test_data = test_raw_data.get_chunk(10000).values.astype('int')"
   ]
  },
  {
   "cell_type": "code",
   "execution_count": 4,
   "metadata": {},
   "outputs": [],
   "source": [
    "acc_DN = [0.911949686,\n",
    "          0.965870307,\n",
    "          0.938223938,\n",
    "          0.828313253,\n",
    "          0.932835821,\n",
    "          0.884488449,\n",
    "          0.968309859,\n",
    "          0.936877076,\n",
    "          0.955489614,\n",
    "          0.970491803]\n",
    "acc_RN = [0.871747,\n",
    "          0.970526,\n",
    "          0.884058,\n",
    "          0.77881,\n",
    "          0.91974,\n",
    "          0.868687,\n",
    "          0.953684,\n",
    "          0.925311,\n",
    "          0.935305,\n",
    "          0.935547]\n",
    "def Fuse(db_result, acc0 , acc1):\n",
    "    if acc0[db_result[0]]>acc1[db_result[1]]:\n",
    "        return db_result[0]\n",
    "    else:\n",
    "        return db_result[1]\n",
    "\n",
    "\n",
    "    "
   ]
  },
  {
   "cell_type": "code",
   "execution_count": 5,
   "metadata": {},
   "outputs": [
    {
     "name": "stderr",
     "output_type": "stream",
     "text": [
      "                                                                                                                       \r"
     ]
    }
   ],
   "source": [
    "result = []\n",
    "\n",
    "test_dataset = get_data.TestDataset(test_data,10000,transforms.ToTensor())\n",
    "test_loader = data.DataLoader(test_dataset, batch_size=1, shuffle=False, drop_last=False)\n",
    "\n",
    "for image,imageid in tqdm(test_loader,leave=False,disable=False):\n",
    "    image = image.type(torch.FloatTensor)\n",
    "    image = image.cuda()\n",
    "\n",
    "    model_DN = model_DN.cuda()\n",
    "    model_RN50 = model_RN50.cuda()\n",
    "\n",
    "    out_DN = model_DN(image)\n",
    "    out_RN50 = model_RN50(image)\n",
    "    pred = [torch.max(out_DN, 1)[1].item() ,torch.max(out_RN50, 1)[1].item()]\n",
    "    \n",
    "    \n",
    "    result.append([int(imageid) , Fuse(pred,acc_DN,acc_RN)])"
   ]
  },
  {
   "cell_type": "code",
   "execution_count": 6,
   "metadata": {},
   "outputs": [
    {
     "data": {
      "text/plain": [
       "13"
      ]
     },
     "execution_count": 6,
     "metadata": {},
     "output_type": "execute_result"
    }
   ],
   "source": [
    "import csv\n",
    "datetime =time.strftime('%Y.%m.%d',time.localtime(time.time()))\n",
    "result_path = data_path+\"result_fuse-\" +datetime+ \".csv\"\n",
    "\n",
    "out = open(result_path,'a', newline='')\n",
    "csv_write = csv.writer(out)\n",
    "csv_write.writerow([\"Id\",\"Category\"])"
   ]
  },
  {
   "cell_type": "code",
   "execution_count": 7,
   "metadata": {},
   "outputs": [
    {
     "name": "stdout",
     "output_type": "stream",
     "text": [
      "10000\n"
     ]
    }
   ],
   "source": [
    "print(len(result))"
   ]
  },
  {
   "cell_type": "code",
   "execution_count": 8,
   "metadata": {},
   "outputs": [],
   "source": [
    "for i in range(0,10000):\n",
    "    csv_write.writerow(result[i])"
   ]
  },
  {
   "cell_type": "code",
   "execution_count": 9,
   "metadata": {},
   "outputs": [],
   "source": [
    "for i in range(9361,9800):\n",
    "    csv_write.writerow(result[i])"
   ]
  },
  {
   "cell_type": "code",
   "execution_count": null,
   "metadata": {},
   "outputs": [],
   "source": []
  }
 ],
 "metadata": {
  "kernelspec": {
   "display_name": "Python 3",
   "language": "python",
   "name": "python3"
  },
  "language_info": {
   "codemirror_mode": {
    "name": "ipython",
    "version": 3
   },
   "file_extension": ".py",
   "mimetype": "text/x-python",
   "name": "python",
   "nbconvert_exporter": "python",
   "pygments_lexer": "ipython3",
   "version": "3.5.5"
  }
 },
 "nbformat": 4,
 "nbformat_minor": 2
}
