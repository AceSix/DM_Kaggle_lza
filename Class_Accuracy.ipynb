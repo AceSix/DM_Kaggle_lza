{
 "cells": [
  {
   "cell_type": "code",
   "execution_count": 1,
   "metadata": {},
   "outputs": [],
   "source": [
    "import torch\n",
    "import torch.nn as nn\n",
    "import torch.utils.data as data\n",
    "import torchvision\n",
    "import torchvision.transforms as transforms\n",
    "import pandas as pd\n",
    "import numpy as np\n",
    "import torch.optim as optim\n",
    "import torch.nn.functional as F\n",
    "from tqdm import tqdm\n",
    "import time\n",
    "import matplotlib.pyplot as plt\n",
    "import math\n",
    "import self_model as models\n",
    "import get_data"
   ]
  },
  {
   "cell_type": "code",
   "execution_count": 2,
   "metadata": {},
   "outputs": [],
   "source": [
    "data_path = \"C://Users//shjdl//Desktop//DM_project//data//\"\n",
    "train_path = data_path+\"train1.csv\"\n",
    "valid_path = data_path+\"validation.csv\"\n",
    "\n",
    "raw_data = pd.read_csv(train_path, iterator=True)\n",
    "all_data = raw_data.get_chunk(50000).values.astype('uint8')\n",
    "# train_data = all_data[0:49000]\n",
    "valid_data = all_data[45000:50000]\n",
    "valid_dataset = get_data.TrainDataset(valid_data,5000,transforms.ToTensor())\n",
    "valid_loader = data.DataLoader(valid_dataset, batch_size=100, shuffle=True, drop_last=False)\n",
    "all_data = None"
   ]
  },
  {
   "cell_type": "code",
   "execution_count": 3,
   "metadata": {},
   "outputs": [],
   "source": [
    "Resnet50_path = \"./model-ResNet50-[all]-2019.04.11.pt\"\n",
    "AllConvNet_path = \"./model-AllConvNet-[1,6,7,8,9]-2019.04.11.pt\"\n",
    "SimpleNet_path = \"./model-SImpleNet-[1,2,6,8]-2019.04.11.pt\"\n",
    "\n",
    "model_ACN = models.AllConvNet(3000)\n",
    "model_SN = models.SimpleNet()\n",
    "model_RN50 = models.Resnet50()"
   ]
  },
  {
   "cell_type": "code",
   "execution_count": 4,
   "metadata": {},
   "outputs": [],
   "source": [
    "model_ACN = torch.load(AllConvNet_path)\n",
    "model_SN = torch.load(SimpleNet_path)\n",
    "model_RN50 = torch.load(Resnet50_path)"
   ]
  },
  {
   "cell_type": "code",
   "execution_count": 5,
   "metadata": {},
   "outputs": [],
   "source": [
    "def ClassAcc(model, valid_loader):\n",
    "    correct = list(0. for i in range(0,10))\n",
    "    total = list(0. for i in range(0,10))\n",
    "    pred_correct = list(0. for i in range(0,10))\n",
    "    pred_total = list(0. for i in range(0,10))\n",
    "    model.eval()\n",
    "    for i, (images, labels) in enumerate(valid_loader):\n",
    "                images = images.type(torch.FloatTensor).cuda()\n",
    "                labels = labels.type(torch.LongTensor).cuda()\n",
    "    \n",
    "                output = model(images)\n",
    "    \n",
    "                prediction = torch.argmax(output, 1)\n",
    "                res = prediction == labels\n",
    "                for label_idx in range(len(labels)):\n",
    "                    label_single = labels[label_idx]\n",
    "                    label_pred = prediction[label_idx]\n",
    "                    correct[label_single] += res[label_idx].item()\n",
    "                    total[label_single] += 1\n",
    "                    pred_correct[label_pred] += res[label_idx].item()\n",
    "                    pred_total[label_pred] += 1\n",
    "                    \n",
    "    # acc_str = 'Accuracy: %f'%(sum(correct)/sum(total))\n",
    "    for acc_idx in range(0,10):\n",
    "                try:\n",
    "                    acc = correct[acc_idx]/total[acc_idx]\n",
    "                except:\n",
    "                    acc = 0\n",
    "                finally:\n",
    "                    acc_str = '\\tclassID:%d\\tacc:%f\\t'%(acc_idx, acc)\n",
    "                    print(acc_str)\n",
    "    for acc_idx in range(0,10):\n",
    "                try:\n",
    "                    acc2 = pred_correct[acc_idx]/pred_total[acc_idx]\n",
    "                except:\n",
    "                    acc2 = 0\n",
    "                finally:\n",
    "                    acc_str2 = '\\tpredictionID:%d\\tacc:%f\\t'%(acc_idx, acc2)\n",
    "                    print(acc_str2)\n",
    "        \n",
    "        "
   ]
  },
  {
   "cell_type": "code",
   "execution_count": 6,
   "metadata": {},
   "outputs": [
    {
     "name": "stdout",
     "output_type": "stream",
     "text": [
      "\tclassID:0\tacc:0.841785\t\n",
      "\tclassID:1\tacc:0.932377\t\n",
      "\tclassID:2\tacc:0.743215\t\n",
      "\tclassID:3\tacc:0.709056\t\n",
      "\tclassID:4\tacc:0.848421\t\n",
      "\tclassID:5\tacc:0.816635\t\n",
      "\tclassID:6\tacc:0.870902\t\n",
      "\tclassID:7\tacc:0.870103\t\n",
      "\tclassID:8\tacc:0.894737\t\n",
      "\tclassID:9\tacc:0.937500\t\n",
      "\tpredictionID:0\tacc:0.871849\t\n",
      "\tpredictionID:1\tacc:0.926680\t\n",
      "\tpredictionID:2\tacc:0.849642\t\n",
      "\tpredictionID:3\tacc:0.741935\t\n",
      "\tpredictionID:4\tacc:0.815789\t\n",
      "\tpredictionID:5\tacc:0.760563\t\n",
      "\tpredictionID:6\tacc:0.912017\t\n",
      "\tpredictionID:7\tacc:0.850806\t\n",
      "\tpredictionID:8\tacc:0.915385\t\n",
      "\tpredictionID:9\tacc:0.836237\t\n"
     ]
    }
   ],
   "source": [
    "ClassAcc(model_ACN, valid_loader)"
   ]
  },
  {
   "cell_type": "code",
   "execution_count": 7,
   "metadata": {},
   "outputs": [
    {
     "name": "stdout",
     "output_type": "stream",
     "text": [
      "\tclassID:0\tacc:0.902637\t\n",
      "\tclassID:1\tacc:0.928279\t\n",
      "\tclassID:2\tacc:0.793319\t\n",
      "\tclassID:3\tacc:0.707129\t\n",
      "\tclassID:4\tacc:0.848421\t\n",
      "\tclassID:5\tacc:0.801512\t\n",
      "\tclassID:6\tacc:0.922131\t\n",
      "\tclassID:7\tacc:0.853608\t\n",
      "\tclassID:8\tacc:0.915414\t\n",
      "\tclassID:9\tacc:0.914062\t\n",
      "\tpredictionID:0\tacc:0.849237\t\n",
      "\tpredictionID:1\tacc:0.926380\t\n",
      "\tpredictionID:2\tacc:0.827887\t\n",
      "\tpredictionID:3\tacc:0.741414\t\n",
      "\tpredictionID:4\tacc:0.824131\t\n",
      "\tpredictionID:5\tacc:0.801512\t\n",
      "\tpredictionID:6\tacc:0.889328\t\n",
      "\tpredictionID:7\tacc:0.898048\t\n",
      "\tpredictionID:8\tacc:0.936538\t\n",
      "\tpredictionID:9\tacc:0.886364\t\n"
     ]
    }
   ],
   "source": [
    "ClassAcc(model_SN, valid_loader)"
   ]
  },
  {
   "cell_type": "code",
   "execution_count": 8,
   "metadata": {},
   "outputs": [
    {
     "name": "stdout",
     "output_type": "stream",
     "text": [
      "\tclassID:0\tacc:0.951318\t\n",
      "\tclassID:1\tacc:0.944672\t\n",
      "\tclassID:2\tacc:0.891441\t\n",
      "\tclassID:3\tacc:0.807322\t\n",
      "\tclassID:4\tacc:0.892632\t\n",
      "\tclassID:5\tacc:0.812854\t\n",
      "\tclassID:6\tacc:0.928279\t\n",
      "\tclassID:7\tacc:0.919588\t\n",
      "\tclassID:8\tacc:0.951128\t\n",
      "\tclassID:9\tacc:0.935547\t\n",
      "\tpredictionID:0\tacc:0.871747\t\n",
      "\tpredictionID:1\tacc:0.970526\t\n",
      "\tpredictionID:2\tacc:0.884058\t\n",
      "\tpredictionID:3\tacc:0.778810\t\n",
      "\tpredictionID:4\tacc:0.919740\t\n",
      "\tpredictionID:5\tacc:0.868687\t\n",
      "\tpredictionID:6\tacc:0.953684\t\n",
      "\tpredictionID:7\tacc:0.925311\t\n",
      "\tpredictionID:8\tacc:0.935305\t\n",
      "\tpredictionID:9\tacc:0.935547\t\n"
     ]
    }
   ],
   "source": [
    "ClassAcc(model_RN50, valid_loader)"
   ]
  },
  {
   "cell_type": "code",
   "execution_count": null,
   "metadata": {},
   "outputs": [],
   "source": []
  }
 ],
 "metadata": {
  "kernelspec": {
   "display_name": "Python 3",
   "language": "python",
   "name": "python3"
  },
  "language_info": {
   "codemirror_mode": {
    "name": "ipython",
    "version": 3
   },
   "file_extension": ".py",
   "mimetype": "text/x-python",
   "name": "python",
   "nbconvert_exporter": "python",
   "pygments_lexer": "ipython3",
   "version": "3.5.5"
  }
 },
 "nbformat": 4,
 "nbformat_minor": 2
}
