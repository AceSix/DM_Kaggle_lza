{
 "cells": [
  {
   "cell_type": "code",
   "execution_count": 1,
   "metadata": {},
   "outputs": [],
   "source": [
    "import torch\n",
    "import torch.nn as nn\n",
    "import torch.utils.data as data\n",
    "import torchvision\n",
    "import torchvision.transforms as transforms\n",
    "import pandas as pd\n",
    "import numpy as np\n",
    "import torch.optim as optim\n",
    "import torch.nn.functional as F\n",
    "from tqdm import tqdm\n",
    "import time\n",
    "import matplotlib.pyplot as plt\n",
    "import math\n",
    "import self_model as models\n",
    "import get_data"
   ]
  },
  {
   "cell_type": "code",
   "execution_count": 5,
   "metadata": {},
   "outputs": [],
   "source": [
    "data_path = \"C://Users//shjdl//Desktop//DM_project//data//\"\n",
    "train_path = data_path+\"train.csv\"\n",
    "valid_path = data_path+\"validation.csv\"\n",
    "\n",
    "train_raw_data = pd.read_csv(train_path, iterator=True)\n",
    "train_data = train_raw_data.get_chunk(40000).values.astype('uint8')\n",
    "valid_raw_data = pd.read_csv(valid_path, iterator=True)\n",
    "valid_data = valid_raw_data.get_chunk(10000).values.astype('uint8')\n"
   ]
  },
  {
   "cell_type": "code",
   "execution_count": 6,
   "metadata": {},
   "outputs": [],
   "source": [
    "BATCH_SIZE = 16\n",
    "NUM_EPOCHS = 300\n",
    "LR = 0.01\n",
    "\n",
    "model = models.SEResNeXt(models.BottleneckX, [3, 4, 6, 3],cardinality=32, num_classes=10)\n",
    "# model = models.AllConvNet()\n",
    "criterion = nn.CrossEntropyLoss()\n",
    "# optimizer = optim.Adadelta(model.parameters(), 0.9)\n",
    "\n",
    "optimizer = optim.SGD(model.parameters(), lr=LR)\n",
    "scheduler = optim.lr_scheduler.StepLR(optimizer, step_size = 60, gamma = 0.1)\n",
    "\n",
    "# optimizer = optim.Adam(model.parameters(), lr=LR, betas=(0.9, 0.99))\n",
    "\n",
    "train_dataset = get_data.TrainDataset(train_data)\n",
    "valid_dataset = get_data.ValidDataset(valid_data,500)\n",
    "train_loader = data.DataLoader(train_dataset, batch_size=BATCH_SIZE, shuffle=True, drop_last=True)"
   ]
  },
  {
   "cell_type": "code",
   "execution_count": null,
   "metadata": {
    "scrolled": true
   },
   "outputs": [
    {
     "name": "stdout",
     "output_type": "stream",
     "text": [
      "epoch 0, 10000 data processed, current entropy is 1.791082\n",
      "epoch 0, 20000 data processed, current entropy is 2.012074\n",
      "epoch 0, 30000 data processed, current entropy is 1.807365\n",
      "epoch 0, 40000 data processed, current entropy is 1.691597\n",
      "epoch 0, 40000 data processed, current validation is 0.426000\n",
      "epoch 1, 50000 data processed, current entropy is 1.454247\n",
      "epoch 1, 60000 data processed, current entropy is 1.322613\n",
      "epoch 1, 70000 data processed, current entropy is 1.214434\n",
      "epoch 1, 80000 data processed, current entropy is 1.362554\n",
      "epoch 1, 80000 data processed, current validation is 0.508000\n",
      "epoch 2, 90000 data processed, current entropy is 1.140758\n",
      "epoch 2, 100000 data processed, current entropy is 0.879305\n",
      "epoch 2, 110000 data processed, current entropy is 1.197255\n",
      "epoch 2, 120000 data processed, current entropy is 0.883987\n",
      "epoch 2, 120000 data processed, current validation is 0.544000\n",
      "epoch 3, 130000 data processed, current entropy is 0.654091\n",
      "epoch 3, 140000 data processed, current entropy is 1.228342\n",
      "epoch 3, 150000 data processed, current entropy is 1.542409\n",
      "epoch 3, 160000 data processed, current entropy is 1.535086\n",
      "epoch 3, 160000 data processed, current validation is 0.564000\n",
      "epoch 4, 170000 data processed, current entropy is 0.942149\n",
      "epoch 4, 180000 data processed, current entropy is 0.814135\n",
      "epoch 4, 190000 data processed, current entropy is 1.098152\n",
      "epoch 4, 200000 data processed, current entropy is 0.889012\n",
      "epoch 4, 200000 data processed, current validation is 0.606000\n",
      "epoch 5, 210000 data processed, current entropy is 0.916624\n",
      "epoch 5, 220000 data processed, current entropy is 1.344951\n",
      "epoch 5, 230000 data processed, current entropy is 0.229285\n",
      "epoch 5, 240000 data processed, current entropy is 0.881852\n",
      "epoch 5, 240000 data processed, current validation is 0.634000\n",
      "epoch 6, 250000 data processed, current entropy is 0.221801\n",
      "epoch 6, 260000 data processed, current entropy is 1.180977\n",
      "epoch 6, 270000 data processed, current entropy is 0.543947\n",
      "epoch 6, 280000 data processed, current entropy is 0.658791\n",
      "epoch 6, 280000 data processed, current validation is 0.644000\n",
      "epoch 7, 290000 data processed, current entropy is 0.617588\n",
      "epoch 7, 300000 data processed, current entropy is 0.357969\n",
      "epoch 7, 310000 data processed, current entropy is 0.753876\n",
      "epoch 7, 320000 data processed, current entropy is 0.406017\n",
      "epoch 7, 320000 data processed, current validation is 0.646000\n",
      "epoch 8, 330000 data processed, current entropy is 0.522973\n",
      "epoch 8, 340000 data processed, current entropy is 0.949331\n",
      "epoch 8, 350000 data processed, current entropy is 0.188431\n",
      "epoch 8, 360000 data processed, current entropy is 0.782272\n",
      "epoch 8, 360000 data processed, current validation is 0.636000\n",
      "epoch 9, 370000 data processed, current entropy is 0.330509\n",
      "epoch 9, 380000 data processed, current entropy is 0.351144\n",
      "epoch 9, 390000 data processed, current entropy is 0.315266\n"
     ]
    }
   ],
   "source": [
    "seque = []\n",
    "tloss = []\n",
    "epochloss=[]\n",
    "valid = []\n",
    "processed = 0\n",
    "times = 0\n",
    "\n",
    "for epoch in range(NUM_EPOCHS):    \n",
    "    \n",
    "    scheduler.step()\n",
    "    \n",
    "    for images, labels in tqdm(train_loader,disable = True):\n",
    "        images = images.type(torch.FloatTensor).cuda()\n",
    "        labels = labels.type(torch.LongTensor).cuda()\n",
    "        model = model.cuda()\n",
    "        \n",
    "        out = model(images)\n",
    "        loss = criterion(out, labels)\n",
    "        optimizer.zero_grad()\n",
    "        loss.backward()\n",
    "        optimizer.step()\n",
    "        \n",
    "        times = times+1\n",
    "        processed += BATCH_SIZE\n",
    "        if processed%10000==0:\n",
    "            print(\"epoch %d, %d data processed, current entropy is %f\" % (epoch, processed, loss.data.item()))\n",
    "            seque.append(times)\n",
    "            tloss.append(loss.data.item())\n",
    "    train_acc = 0\n",
    "    valid_loader = data.DataLoader(valid_dataset, batch_size=BATCH_SIZE, shuffle=True, drop_last=True)\n",
    "    for images, labels in tqdm(valid_loader,disable =True):\n",
    "        images = images.type(torch.FloatTensor)\n",
    "        labels = labels.type(torch.LongTensor)\n",
    "        images = images.cuda()\n",
    "        labels = labels.cuda()\n",
    "        model = model.cuda()\n",
    "        out = model(images)\n",
    "        _, pred = torch.max(out, 1)\n",
    "        num_correct = (pred == labels).sum()\n",
    "        train_acc += num_correct.item()\n",
    "    epochloss.append(loss.data.item())\n",
    "    valid.append(train_acc / 500)\n",
    "    print(\"epoch %d, %d data processed, current validation is %f\" % (epoch, processed, train_acc / 500))"
   ]
  },
  {
   "cell_type": "code",
   "execution_count": 9,
   "metadata": {},
   "outputs": [
    {
     "name": "stderr",
     "output_type": "stream",
     "text": [
      "D:\\tf\\envs\\tfgpu\\lib\\site-packages\\torch\\serialization.py:241: UserWarning: Couldn't retrieve source code for container of type SEResNeXt. It won't be checked for correctness upon loading.\n",
      "  \"type \" + obj.__name__ + \". It won't be checked \"\n",
      "D:\\tf\\envs\\tfgpu\\lib\\site-packages\\torch\\serialization.py:241: UserWarning: Couldn't retrieve source code for container of type BottleneckX. It won't be checked for correctness upon loading.\n",
      "  \"type \" + obj.__name__ + \". It won't be checked \"\n",
      "D:\\tf\\envs\\tfgpu\\lib\\site-packages\\torch\\serialization.py:241: UserWarning: Couldn't retrieve source code for container of type Selayer. It won't be checked for correctness upon loading.\n",
      "  \"type \" + obj.__name__ + \". It won't be checked \"\n"
     ]
    },
    {
     "data": {
      "image/png": "[encoded data removed]",
      "text/plain": [
       "<Figure size 432x288 with 1 Axes>"
      ]
     },
     "metadata": {},
     "output_type": "display_data"
    }
   ],
   "source": [
    "datetime =time.strftime('%Y.%m.%d',time.localtime(time.time()))\n",
    "PATH = \"./model-\" +datetime+ \".pt\"\n",
    "torch.save(model, PATH) \n",
    "\n",
    "model=torch.load(PATH)\n",
    "plt.plot(epochloss,valid)\n",
    "plt.show()"
   ]
  },
  {
   "cell_type": "code",
   "execution_count": null,
   "metadata": {},
   "outputs": [],
   "source": []
  },
  {
   "cell_type": "code",
   "execution_count": 13,
   "metadata": {},
   "outputs": [],
   "source": []
  },
  {
   "cell_type": "code",
   "execution_count": 14,
   "metadata": {},
   "outputs": [],
   "source": []
  },
  {
   "cell_type": "code",
   "execution_count": 15,
   "metadata": {},
   "outputs": [
    {
     "name": "stderr",
     "output_type": "stream",
     "text": [
      "D:\\tf\\envs\\tfgpu\\lib\\site-packages\\ipykernel_launcher.py:8: FutureWarning: Method .as_matrix will be removed in a future version. Use .values instead.\n",
      "  \n"
     ]
    }
   ],
   "source": [
    "\n",
    "    "
   ]
  },
  {
   "cell_type": "code",
   "execution_count": null,
   "metadata": {},
   "outputs": [],
   "source": []
  }
 ],
 "metadata": {
  "kernelspec": {
   "display_name": "Python 3",
   "language": "python",
   "name": "python3"
  },
  "language_info": {
   "codemirror_mode": {
    "name": "ipython",
    "version": 3
   },
   "file_extension": ".py",
   "mimetype": "text/x-python",
   "name": "python",
   "nbconvert_exporter": "python",
   "pygments_lexer": "ipython3",
   "version": "3.5.5"
  }
 },
 "nbformat": 4,
 "nbformat_minor": 2
}
