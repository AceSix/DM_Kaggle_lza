{
 "cells": [
  {
   "cell_type": "code",
   "execution_count": 1,
   "metadata": {},
   "outputs": [],
   "source": [
    "import torch\n",
    "import torch.nn as nn\n",
    "import torch.utils.data as data\n",
    "import torchvision\n",
    "import torchvision.transforms as transforms\n",
    "import pandas as pd\n",
    "import numpy as np\n",
    "import torch.optim as optim\n",
    "import torch.nn.functional as F\n",
    "from tqdm import tqdm\n",
    "import time\n",
    "import matplotlib.pyplot as plt\n",
    "import math\n",
    "import self_model as models\n",
    "import densenet"
   ]
  },
  {
   "cell_type": "code",
   "execution_count": 2,
   "metadata": {},
   "outputs": [],
   "source": [
    "data_path = \"C://Users//shjdl//Desktop//DM_project//data//\"\n",
    "test_path = data_path+\"test.csv\"\n",
    "DenseNet_path = \"./model-DenseNet-[all]-2019.04.12.pt\"\n",
    "\n",
    "model = densenet.DenseNet()\n",
    "model=torch.load(DenseNet_path)\n",
    "model.eval()\n",
    "\n",
    "test_raw_data = pd.read_csv(test_path, iterator=True)\n",
    "test_data = test_raw_data.get_chunk(10000).values.astype('int')"
   ]
  },
  {
   "cell_type": "code",
   "execution_count": 3,
   "metadata": {},
   "outputs": [],
   "source": [
    "import get_data\n",
    "simple_transform = transforms.Compose([\n",
    "                    transforms.ToTensor(),\n",
    "#                     transforms.Normalize([0.485, 0.456, 0.406], [0.229, 0.224, 0.225])\n",
    "                    ])\n",
    "test_dataset = get_data.TestDataset(test_data,10000,simple_transform)"
   ]
  },
  {
   "cell_type": "code",
   "execution_count": 5,
   "metadata": {},
   "outputs": [
    {
     "name": "stdout",
     "output_type": "stream",
     "text": [
      "[  0 158 159 ... 124 129 110]\n"
     ]
    }
   ],
   "source": [
    "print(test_data[0])"
   ]
  },
  {
   "cell_type": "code",
   "execution_count": 4,
   "metadata": {},
   "outputs": [
    {
     "data": {
      "text/plain": [
       "13"
      ]
     },
     "execution_count": 4,
     "metadata": {},
     "output_type": "execute_result"
    }
   ],
   "source": [
    "import csv\n",
    "datetime =time.strftime('%Y.%m.%d',time.localtime(time.time()))\n",
    "result_path = data_path+\"result-\" +datetime+ \".csv\"\n",
    "\n",
    "test_loader = data.DataLoader(test_dataset, batch_size=1, shuffle=False, drop_last=False)\n",
    "out = open(result_path,'a', newline='')\n",
    "csv_write = csv.writer(out)\n",
    "csv_write.writerow([\"Id\",\"Category\"])"
   ]
  },
  {
   "cell_type": "code",
   "execution_count": 5,
   "metadata": {},
   "outputs": [
    {
     "name": "stderr",
     "output_type": "stream",
     "text": [
      "                                                                                                                       \r"
     ]
    }
   ],
   "source": [
    "result = []\n",
    "for image,imageid in tqdm(test_loader,leave=False,disable=False):\n",
    "    image = image.type(torch.FloatTensor)\n",
    "    if torch.cuda.is_available():\n",
    "        image = image.cuda()\n",
    "        model = model.cuda()\n",
    "    out = model(image)\n",
    "    pred = torch.max(out, 1)[1]\n",
    "    result.append([int(imageid) , pred.item()])"
   ]
  },
  {
   "cell_type": "code",
   "execution_count": 6,
   "metadata": {},
   "outputs": [
    {
     "name": "stdout",
     "output_type": "stream",
     "text": [
      "10000\n"
     ]
    }
   ],
   "source": [
    "print(len(result))"
   ]
  },
  {
   "cell_type": "code",
   "execution_count": 7,
   "metadata": {},
   "outputs": [],
   "source": [
    "for i in range(0,10000):\n",
    "    csv_write.writerow(result[i])"
   ]
  },
  {
   "cell_type": "code",
   "execution_count": 8,
   "metadata": {},
   "outputs": [],
   "source": [
    "for i in range(9361,9800):\n",
    "    csv_write.writerow(result[i])"
   ]
  },
  {
   "cell_type": "code",
   "execution_count": null,
   "metadata": {},
   "outputs": [],
   "source": []
  }
 ],
 "metadata": {
  "kernelspec": {
   "display_name": "Python 3",
   "language": "python",
   "name": "python3"
  },
  "language_info": {
   "codemirror_mode": {
    "name": "ipython",
    "version": 3
   },
   "file_extension": ".py",
   "mimetype": "text/x-python",
   "name": "python",
   "nbconvert_exporter": "python",
   "pygments_lexer": "ipython3",
   "version": "3.5.5"
  }
 },
 "nbformat": 4,
 "nbformat_minor": 2
}
